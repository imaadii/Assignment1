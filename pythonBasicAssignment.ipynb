{
 "cells": [
  {
   "cell_type": "code",
   "execution_count": 1,
   "id": "2c34ab4f-3b2a-44c7-855e-4552fd56cdfc",
   "metadata": {},
   "outputs": [],
   "source": [
    "#1. Declare two variables, `x` and `y`, and assign them integer values. Swap the\n",
    "#values of these variables without using any temporary variable."
   ]
  },
  {
   "cell_type": "code",
   "execution_count": 2,
   "id": "8acbdfdb-318d-4f28-a54f-b44a1b66ace6",
   "metadata": {},
   "outputs": [],
   "source": [
    "x=6\n",
    "y=4"
   ]
  },
  {
   "cell_type": "code",
   "execution_count": 4,
   "id": "aab30b27-dfca-47ad-a7c7-7571b1becadb",
   "metadata": {},
   "outputs": [
    {
     "name": "stdout",
     "output_type": "stream",
     "text": [
      "before swaping :  6 , 4\n"
     ]
    }
   ],
   "source": [
    "print(\"before swaping : \",x ,',', y)"
   ]
  },
  {
   "cell_type": "code",
   "execution_count": 5,
   "id": "768d1cc3-5913-4a33-b6e1-dfd05e078bbf",
   "metadata": {},
   "outputs": [],
   "source": [
    "x,y=y,x\n"
   ]
  },
  {
   "cell_type": "code",
   "execution_count": 6,
   "id": "cb011138-a7cf-49f3-b118-4a82a84eabbb",
   "metadata": {},
   "outputs": [
    {
     "name": "stdout",
     "output_type": "stream",
     "text": [
      "after swaping :  4 , 6\n"
     ]
    }
   ],
   "source": [
    "print(\"after swaping : \",x ,',', y)"
   ]
  },
  {
   "cell_type": "code",
   "execution_count": null,
   "id": "e0fceab1-1ea3-4c80-af91-aa89d5988ba4",
   "metadata": {},
   "outputs": [],
   "source": []
  },
  {
   "cell_type": "code",
   "execution_count": 7,
   "id": "9dee418d-ec72-4b4a-aeec-7cd903cc2e17",
   "metadata": {},
   "outputs": [],
   "source": [
    "#2. Create a program that calculates the area of a rectangle. Take the length and\n",
    "#width as inputs from the user and store them in variables. Calculate and\n",
    "#display the area."
   ]
  },
  {
   "cell_type": "code",
   "execution_count": 7,
   "id": "dbe0ce08-1e41-4db2-94f8-8134fe66722d",
   "metadata": {},
   "outputs": [
    {
     "name": "stdin",
     "output_type": "stream",
     "text": [
      " 5\n",
      " 8\n"
     ]
    }
   ],
   "source": [
    "length = int(input())\n",
    "breadth = int(input())\n",
    "area=length*breadth"
   ]
  },
  {
   "cell_type": "code",
   "execution_count": 8,
   "id": "fc8dea66-e8a8-47fd-9cd0-7de8e5d41623",
   "metadata": {},
   "outputs": [
    {
     "data": {
      "text/plain": [
       "40"
      ]
     },
     "execution_count": 8,
     "metadata": {},
     "output_type": "execute_result"
    }
   ],
   "source": [
    "area"
   ]
  },
  {
   "cell_type": "code",
   "execution_count": null,
   "id": "bf72c4ca-4829-43a3-b05e-4b92938a107a",
   "metadata": {},
   "outputs": [],
   "source": [
    "\n"
   ]
  },
  {
   "cell_type": "code",
   "execution_count": 9,
   "id": "2baa508c-5efa-4901-944a-fca5ac98357c",
   "metadata": {},
   "outputs": [],
   "source": [
    "#3. Write a Python program that converts temperatures from Celsius to\n",
    "#Fahrenheit. Take the temperature in Celsius as input, store it in a variable,\n",
    "#convert it to Fahrenheit, and display the result."
   ]
  },
  {
   "cell_type": "code",
   "execution_count": null,
   "id": "6043bfda-b99f-4a3b-9050-ce6dc4ee2b98",
   "metadata": {},
   "outputs": [],
   "source": []
  },
  {
   "cell_type": "code",
   "execution_count": 4,
   "id": "f754f236-4efd-457c-a5dd-3444a2220872",
   "metadata": {},
   "outputs": [
    {
     "name": "stdin",
     "output_type": "stream",
     "text": [
      " 32\n"
     ]
    }
   ],
   "source": [
    "temp_in_celsius = float(input())\n",
    "temp_in_fahrenheit = ((temp_in_celsius*9)/5)+32"
   ]
  },
  {
   "cell_type": "code",
   "execution_count": 5,
   "id": "af61610d-8837-4bee-a0aa-ea9146c7bf1d",
   "metadata": {},
   "outputs": [
    {
     "data": {
      "text/plain": [
       "89.6"
      ]
     },
     "execution_count": 5,
     "metadata": {},
     "output_type": "execute_result"
    }
   ],
   "source": [
    "temp_in_fahrenheit"
   ]
  },
  {
   "cell_type": "code",
   "execution_count": null,
   "id": "6438da94-fa70-440f-b4c3-80eed3cf2b05",
   "metadata": {},
   "outputs": [],
   "source": []
  },
  {
   "cell_type": "code",
   "execution_count": 7,
   "id": "64fa5263-1a22-4ed4-a211-118de4cfa4ff",
   "metadata": {},
   "outputs": [],
   "source": [
    "#String Based Questions"
   ]
  },
  {
   "cell_type": "code",
   "execution_count": 6,
   "id": "fda5391b-d0b7-47fa-a150-f641d7008b6c",
   "metadata": {},
   "outputs": [],
   "source": [
    "#1. Write a Python program that takes a string as input and prints the length of\n",
    "#the string."
   ]
  },
  {
   "cell_type": "code",
   "execution_count": 8,
   "id": "b1bd6cd0-1e74-4f11-9223-0594369764a1",
   "metadata": {},
   "outputs": [
    {
     "name": "stdin",
     "output_type": "stream",
     "text": [
      " python\n"
     ]
    }
   ],
   "source": [
    "s=str(input())"
   ]
  },
  {
   "cell_type": "code",
   "execution_count": 9,
   "id": "762b3897-003a-4280-b28d-78f2b528a253",
   "metadata": {},
   "outputs": [
    {
     "data": {
      "text/plain": [
       "str"
      ]
     },
     "execution_count": 9,
     "metadata": {},
     "output_type": "execute_result"
    }
   ],
   "source": [
    "type(s)"
   ]
  },
  {
   "cell_type": "code",
   "execution_count": 10,
   "id": "57dc69d3-88ab-4c29-903c-e77dd3784958",
   "metadata": {},
   "outputs": [
    {
     "data": {
      "text/plain": [
       "6"
      ]
     },
     "execution_count": 10,
     "metadata": {},
     "output_type": "execute_result"
    }
   ],
   "source": [
    "len(s)"
   ]
  },
  {
   "cell_type": "code",
   "execution_count": null,
   "id": "9c7ef6e0-8f39-42b0-98e6-f48a01914c69",
   "metadata": {},
   "outputs": [],
   "source": []
  },
  {
   "cell_type": "code",
   "execution_count": null,
   "id": "714bb250-b354-47c7-b562-cf555f063f7b",
   "metadata": {},
   "outputs": [],
   "source": []
  },
  {
   "cell_type": "code",
   "execution_count": 11,
   "id": "c5c318ab-4a55-41bd-8f19-3c47cb35e46c",
   "metadata": {},
   "outputs": [],
   "source": [
    "#2. Create a program that takes a sentence from the user and counts the number\n",
    "#of vowels (a, e, i, o, u) in the string."
   ]
  },
  {
   "cell_type": "code",
   "execution_count": null,
   "id": "df325fc4-a64b-45d2-a441-427381fc5370",
   "metadata": {},
   "outputs": [],
   "source": []
  },
  {
   "cell_type": "code",
   "execution_count": 1,
   "id": "bb7eadd5-617c-47eb-b5b2-91a44df4469d",
   "metadata": {},
   "outputs": [],
   "source": [
    "#3. Given a string, reverse the order of characters using string slicing and print\n",
    "#the reversed string."
   ]
  },
  {
   "cell_type": "code",
   "execution_count": 3,
   "id": "6278de82-90a9-4727-a22f-df38b5bd917f",
   "metadata": {},
   "outputs": [],
   "source": [
    "S = 'Pwskills'"
   ]
  },
  {
   "cell_type": "code",
   "execution_count": 5,
   "id": "5fa3214a-5681-44eb-9661-39f40bd37d6c",
   "metadata": {},
   "outputs": [
    {
     "data": {
      "text/plain": [
       "str"
      ]
     },
     "execution_count": 5,
     "metadata": {},
     "output_type": "execute_result"
    }
   ],
   "source": [
    "type(S)"
   ]
  },
  {
   "cell_type": "code",
   "execution_count": 6,
   "id": "328b3edf-6ac0-47fc-aa2c-3a4bc838f153",
   "metadata": {},
   "outputs": [
    {
     "data": {
      "text/plain": [
       "'sllikswP'"
      ]
     },
     "execution_count": 6,
     "metadata": {},
     "output_type": "execute_result"
    }
   ],
   "source": [
    "S[::-1]"
   ]
  },
  {
   "cell_type": "code",
   "execution_count": null,
   "id": "a9388f06-7927-4eae-9387-1f92579801d9",
   "metadata": {},
   "outputs": [],
   "source": []
  },
  {
   "cell_type": "code",
   "execution_count": null,
   "id": "89663cf2-8d7a-4171-ad93-f2205182c151",
   "metadata": {},
   "outputs": [],
   "source": []
  },
  {
   "cell_type": "code",
   "execution_count": 7,
   "id": "74c71bed-e39c-4e11-88e4-7ee289ab23ec",
   "metadata": {},
   "outputs": [],
   "source": [
    "#4. Write a program that takes a string as input and checks if it is a palindrome\n",
    "#(reads the same forwards and backwards)."
   ]
  },
  {
   "cell_type": "code",
   "execution_count": 17,
   "id": "c17d88d8-0a10-4456-981c-bd797de45736",
   "metadata": {},
   "outputs": [],
   "source": []
  },
  {
   "cell_type": "code",
   "execution_count": 8,
   "id": "9235fa26-d694-4f2d-b6a2-04078c3ff6a4",
   "metadata": {},
   "outputs": [],
   "source": [
    "#5. Create a program that takes a string as input and removes all the spaces from\n",
    "#it. Print the modified string without spaces."
   ]
  },
  {
   "cell_type": "code",
   "execution_count": 9,
   "id": "2ad6afdb-a73f-4c91-930f-35eb11b7b322",
   "metadata": {},
   "outputs": [
    {
     "name": "stdin",
     "output_type": "stream",
     "text": [
      "   Hello World !\n"
     ]
    }
   ],
   "source": [
    "s = str(input())"
   ]
  },
  {
   "cell_type": "code",
   "execution_count": 14,
   "id": "76fd8478-202c-42ee-863f-40a18e493430",
   "metadata": {},
   "outputs": [
    {
     "data": {
      "text/plain": [
       "str"
      ]
     },
     "execution_count": 14,
     "metadata": {},
     "output_type": "execute_result"
    }
   ],
   "source": [
    "type(s)"
   ]
  },
  {
   "cell_type": "code",
   "execution_count": 11,
   "id": "1377e6c2-1b82-4002-b508-523db16c8379",
   "metadata": {},
   "outputs": [],
   "source": [
    "s1=s.replace(\" \",\"\")"
   ]
  },
  {
   "cell_type": "code",
   "execution_count": 12,
   "id": "a6b30248-c1e8-4b6d-abe9-d7639d2e5a58",
   "metadata": {},
   "outputs": [
    {
     "data": {
      "text/plain": [
       "'HelloWorld!'"
      ]
     },
     "execution_count": 12,
     "metadata": {},
     "output_type": "execute_result"
    }
   ],
   "source": [
    "s1"
   ]
  },
  {
   "cell_type": "code",
   "execution_count": 13,
   "id": "90df8154-985d-48d3-899e-214123352227",
   "metadata": {},
   "outputs": [
    {
     "data": {
      "text/plain": [
       "'  Hello World !'"
      ]
     },
     "execution_count": 13,
     "metadata": {},
     "output_type": "execute_result"
    }
   ],
   "source": [
    "s"
   ]
  },
  {
   "cell_type": "code",
   "execution_count": null,
   "id": "e1a89a3b-c445-4cc4-a36e-ef44e243d7c2",
   "metadata": {},
   "outputs": [],
   "source": []
  }
 ],
 "metadata": {
  "kernelspec": {
   "display_name": "Python 3 (ipykernel)",
   "language": "python",
   "name": "python3"
  },
  "language_info": {
   "codemirror_mode": {
    "name": "ipython",
    "version": 3
   },
   "file_extension": ".py",
   "mimetype": "text/x-python",
   "name": "python",
   "nbconvert_exporter": "python",
   "pygments_lexer": "ipython3",
   "version": "3.10.8"
  }
 },
 "nbformat": 4,
 "nbformat_minor": 5
}
